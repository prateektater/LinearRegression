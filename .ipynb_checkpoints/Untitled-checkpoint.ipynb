{
 "cells": [
  {
   "cell_type": "code",
   "execution_count": 99,
   "metadata": {},
   "outputs": [],
   "source": [
    "import numpy as np"
   ]
  },
  {
   "cell_type": "code",
   "execution_count": 100,
   "metadata": {},
   "outputs": [],
   "source": [
    "import tensorflow as tf"
   ]
  },
  {
   "cell_type": "code",
   "execution_count": 101,
   "metadata": {},
   "outputs": [],
   "source": [
    "import matplotlib.pyplot as plt"
   ]
  },
  {
   "cell_type": "code",
   "execution_count": 102,
   "metadata": {},
   "outputs": [],
   "source": [
    "np.random.seed(101)\n",
    "tf.set_random_seed(101)"
   ]
  },
  {
   "cell_type": "code",
   "execution_count": 103,
   "metadata": {},
   "outputs": [],
   "source": [
    "x = np.linspace(0, 50, 50)\n",
    "y = np.linspace(0, 50, 50)"
   ]
  },
  {
   "cell_type": "code",
   "execution_count": 104,
   "metadata": {},
   "outputs": [],
   "source": [
    "x += np.random.uniform(-4, 4, 50)\n",
    "y += np.random.uniform(-4, 4, 50)"
   ]
  },
  {
   "cell_type": "code",
   "execution_count": 105,
   "metadata": {},
   "outputs": [
    {
     "data": {
      "text/plain": [
       "(0, 50)"
      ]
     },
     "execution_count": 105,
     "metadata": {},
     "output_type": "execute_result"
    },
    {
     "data": {
      "image/png": "[encoded data removed]",
      "text/plain": [
       "<Figure size 432x288 with 1 Axes>"
      ]
     },
     "metadata": {
      "needs_background": "light"
     },
     "output_type": "display_data"
    }
   ],
   "source": [
    "n = len(x)\n",
    "plt.xlim(0, 50)\n",
    "plt.ylim(0, 50)"
   ]
  },
  {
   "cell_type": "code",
   "execution_count": 106,
   "metadata": {},
   "outputs": [
    {
     "data": {
      "image/png": "[encoded data removed]",
      "text/plain": [
       "<Figure size 432x288 with 1 Axes>"
      ]
     },
     "metadata": {
      "needs_background": "light"
     },
     "output_type": "display_data"
    }
   ],
   "source": [
    "plt.scatter(x, y) \n",
    "plt.xlabel('x') \n",
    "plt.xlabel('y') \n",
    "plt.title(\"Training Data\") \n",
    "plt.show() "
   ]
  },
  {
   "cell_type": "code",
   "execution_count": 107,
   "metadata": {},
   "outputs": [],
   "source": [
    "X = tf.placeholder(\"float\")\n",
    "Y = tf.placeholder(\"float\")"
   ]
  },
  {
   "cell_type": "code",
   "execution_count": 123,
   "metadata": {},
   "outputs": [],
   "source": [
    "W = tf.Variable(np.random.randn(), name = \"W\")\n",
    "b = tf.Variable(np.random.rand(), name = \"b\")\n"
   ]
  },
  {
   "cell_type": "code",
   "execution_count": 118,
   "metadata": {},
   "outputs": [],
   "source": [
    "learning_rate = 0.01\n",
    "training_epochs = 1000"
   ]
  },
  {
   "cell_type": "code",
   "execution_count": 119,
   "metadata": {},
   "outputs": [],
   "source": [
    "y_pred = tf.add(tf.multiply(X,W), b)\n",
    "cost = tf.reduce_sum(tf.pow(y_pred-Y, 2)) / (2*n)"
   ]
  },
  {
   "cell_type": "code",
   "execution_count": 120,
   "metadata": {},
   "outputs": [],
   "source": [
    "optimizer = tf.train.GradientDescentOptimizer(learning_rate).minimize(cost)"
   ]
  },
  {
   "cell_type": "code",
   "execution_count": 121,
   "metadata": {},
   "outputs": [],
   "source": [
    "init  = tf.global_variables_initializer()"
   ]
  },
  {
   "cell_type": "code",
   "execution_count": 122,
   "metadata": {},
   "outputs": [
    {
     "name": "stdout",
     "output_type": "stream",
     "text": [
      "Epoch 100 : cost =  5.348363 W= 1.0173336 b = 0.15214634\n",
      "Epoch 200 : cost =  5.3305783 W= 1.0185208 b = 0.09409787\n",
      "Epoch 300 : cost =  5.317191 W= 1.019468 b = 0.047788467\n",
      "Epoch 400 : cost =  5.30702 W= 1.0202235 b = 0.010844154\n",
      "Epoch 500 : cost =  5.299234 W= 1.0208263 b = -0.018628955\n",
      "Epoch 600 : cost =  5.293222 W= 1.0213071 b = -0.042141855\n",
      "Epoch 700 : cost =  5.288562 W= 1.0216908 b = -0.060899474\n",
      "Epoch 800 : cost =  5.284926 W= 1.0219969 b = -0.07586384\n",
      "Epoch 900 : cost =  5.2820773 W= 1.022241 b = -0.08780226\n",
      "Epoch 1000 : cost =  5.2798395 W= 1.0224358 b = -0.09732633\n"
     ]
    }
   ],
   "source": [
    "with tf.Session() as sess:\n",
    "    sess.run(init)\n",
    "    for epoch in range(training_epochs):\n",
    "        for(_x, _y) in zip(x, y):\n",
    "            sess.run(optimizer, feed_dict = {X: _x, Y: _y})\n",
    "            \n",
    "        if(epoch + 1) % 100 == 0:\n",
    "            c = sess.run(cost, feed_dict= {X: x, Y: y})\n",
    "            print(\"Epoch\", (epoch+1), \": cost = \", c, \"W=\", sess.run(W), \"b =\", sess.run(b))\n",
    "    v = sess.run(b)\n",
    "    t = sess.run(W)\n",
    "    training_cost = sess.run(cost, feed_dict = {X: x, Y: y})\n",
    "    weight = sess.run(W)\n",
    "    bias = sess.run(b)\n"
   ]
  },
  {
   "cell_type": "code",
   "execution_count": 116,
   "metadata": {
    "scrolled": true
   },
   "outputs": [
    {
     "name": "stdout",
     "output_type": "stream",
     "text": [
      "-0.06620948\n",
      "1.0217994\n"
     ]
    }
   ],
   "source": [
    "print(v)\n",
    "print(t)\n",
    "predictions = weight*x + bias"
   ]
  },
  {
   "cell_type": "code",
   "execution_count": 82,
   "metadata": {},
   "outputs": [
    {
     "name": "stdout",
     "output_type": "stream",
     "text": [
      "[ 0.06783939  1.55410782 -1.83534268  0.37663609  5.61892784  7.87645803\n",
      "  4.61177101 10.449907   10.08599764  6.78310134 10.80359325 10.19423607\n",
      "  9.84528313 15.82289473 18.33596944 13.38573091 13.21209687 18.5053287\n",
      " 20.57341281 17.9150756  22.30160765 21.97554872 19.18127942 20.95459781\n",
      " 22.39859832 30.04085295 27.21168252 28.72946472 31.04756425 30.513725\n",
      " 34.59064598 34.77307898 32.50573626 33.17421816 39.08596876 35.14841051\n",
      " 40.45375066 41.2117535  39.86653211 44.05066959 38.34680629 39.43606113\n",
      " 45.37239566 47.95978472 43.02761154 45.018594   49.30581929 46.19433873\n",
      " 51.62719761 50.92268819]\n"
     ]
    }
   ],
   "source": [
    "print(predictions)"
   ]
  },
  {
   "cell_type": "code",
   "execution_count": 80,
   "metadata": {},
   "outputs": [
    {
     "name": "stdout",
     "output_type": "stream",
     "text": [
      "Training cost = 5.2872643 Weight = 1.0217994 bias = -0.06620948 \n",
      "\n"
     ]
    }
   ],
   "source": [
    "print(\"Training cost =\", training_cost, \"Weight =\", weight, \"bias =\", bias, '\\n')"
   ]
  },
  {
   "cell_type": "code",
   "execution_count": 124,
   "metadata": {},
   "outputs": [
    {
     "data": {
      "image/png": "[encoded data removed]",
      "text/plain": [
       "<Figure size 432x288 with 1 Axes>"
      ]
     },
     "metadata": {
      "needs_background": "light"
     },
     "output_type": "display_data"
    }
   ],
   "source": [
    "plt.plot(x, y, 'ro', label ='Original data') \n",
    "plt.plot(x, predictions, label ='Fitted line') \n",
    "plt.title('Linear Regression Result') \n",
    "plt.legend() \n",
    "plt.show() "
   ]
  },
  {
   "cell_type": "code",
   "execution_count": null,
   "metadata": {},
   "outputs": [],
   "source": []
  }
 ],
 "metadata": {
  "kernelspec": {
   "display_name": "Python 3",
   "language": "python",
   "name": "python3"
  },
  "language_info": {
   "codemirror_mode": {
    "name": "ipython",
    "version": 3
   },
   "file_extension": ".py",
   "mimetype": "text/x-python",
   "name": "python",
   "nbconvert_exporter": "python",
   "pygments_lexer": "ipython3",
   "version": "3.6.5"
  }
 },
 "nbformat": 4,
 "nbformat_minor": 2
}
